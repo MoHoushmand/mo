{
 "cells": [
  {
   "attachments": {},
   "cell_type": "markdown",
   "metadata": {},
   "source": [
    "# Ruter"
   ]
  },
  {
   "cell_type": "code",
   "execution_count": 7,
   "metadata": {},
   "outputs": [
    {
     "ename": "ValueError",
     "evalue": "API token not defined",
     "output_type": "error",
     "traceback": [
      "\u001b[0;31m---------------------------------------------------------------------------\u001b[0m",
      "\u001b[0;31mValueError\u001b[0m                                Traceback (most recent call last)",
      "Cell \u001b[0;32mIn[7], line 40\u001b[0m\n\u001b[1;32m     37\u001b[0m bqm \u001b[39m=\u001b[39m dimod\u001b[39m.\u001b[39mBinaryQuadraticModel\u001b[39m.\u001b[39mfrom_qubo(qubo)\n\u001b[1;32m     39\u001b[0m \u001b[39m# Set up the sampler\u001b[39;00m\n\u001b[0;32m---> 40\u001b[0m sampler \u001b[39m=\u001b[39m EmbeddingComposite(DWaveSampler())\n\u001b[1;32m     42\u001b[0m \u001b[39m# Solve the TSP problem using D-Wave's quantum annealer\u001b[39;00m\n\u001b[1;32m     43\u001b[0m sampleset \u001b[39m=\u001b[39m sampler\u001b[39m.\u001b[39msample(bqm)\n",
      "File \u001b[0;32m~/micromamba/envs/moenv/lib/python3.9/site-packages/dwave/system/samplers/dwave_sampler.py:184\u001b[0m, in \u001b[0;36mDWaveSampler.__init__\u001b[0;34m(self, failover, retry_interval, **config)\u001b[0m\n\u001b[1;32m    181\u001b[0m \u001b[39mself\u001b[39m\u001b[39m.\u001b[39mretry_interval \u001b[39m=\u001b[39m retry_interval\n\u001b[1;32m    182\u001b[0m \u001b[39mself\u001b[39m\u001b[39m.\u001b[39m_solver_penalty \u001b[39m=\u001b[39m defaultdict(\u001b[39mint\u001b[39m)\n\u001b[0;32m--> 184\u001b[0m \u001b[39mself\u001b[39m\u001b[39m.\u001b[39mclient \u001b[39m=\u001b[39m Client\u001b[39m.\u001b[39;49mfrom_config(\u001b[39m*\u001b[39;49m\u001b[39m*\u001b[39;49mconfig)\n\u001b[1;32m    185\u001b[0m \u001b[39mself\u001b[39m\u001b[39m.\u001b[39msolver \u001b[39m=\u001b[39m \u001b[39mself\u001b[39m\u001b[39m.\u001b[39m_get_solver(penalty\u001b[39m=\u001b[39m\u001b[39mself\u001b[39m\u001b[39m.\u001b[39m_solver_penalty)\n",
      "File \u001b[0;32m~/micromamba/envs/moenv/lib/python3.9/site-packages/dwave/cloud/client/base.py:374\u001b[0m, in \u001b[0;36mClient.from_config\u001b[0;34m(cls, config_file, profile, client, **kwargs)\u001b[0m\n\u001b[1;32m    371\u001b[0m _client \u001b[39m=\u001b[39m config\u001b[39m.\u001b[39mpop(\u001b[39m'\u001b[39m\u001b[39mclient\u001b[39m\u001b[39m'\u001b[39m, \u001b[39mNone\u001b[39;00m) \u001b[39mor\u001b[39;00m \u001b[39m'\u001b[39m\u001b[39mbase\u001b[39m\u001b[39m'\u001b[39m\n\u001b[1;32m    373\u001b[0m logger\u001b[39m.\u001b[39mdebug(\u001b[39m\"\u001b[39m\u001b[39mCreating \u001b[39m\u001b[39m%s\u001b[39;00m\u001b[39m.Client() with: \u001b[39m\u001b[39m%r\u001b[39;00m\u001b[39m\"\u001b[39m, _client, config)\n\u001b[0;32m--> 374\u001b[0m \u001b[39mreturn\u001b[39;00m _clients[_client](\u001b[39m*\u001b[39;49m\u001b[39m*\u001b[39;49mconfig)\n",
      "File \u001b[0;32m~/micromamba/envs/moenv/lib/python3.9/site-packages/dwave/cloud/events.py:105\u001b[0m, in \u001b[0;36mdispatches_events.__call__.<locals>.wrapped\u001b[0;34m(*pargs, **kwargs)\u001b[0m\n\u001b[1;32m    103\u001b[0m dispatch_event(\u001b[39mself\u001b[39m\u001b[39m.\u001b[39mbefore_eventname, obj\u001b[39m=\u001b[39mobj, args\u001b[39m=\u001b[39margs)\n\u001b[1;32m    104\u001b[0m \u001b[39mtry\u001b[39;00m:\n\u001b[0;32m--> 105\u001b[0m     rval \u001b[39m=\u001b[39m fn(\u001b[39m*\u001b[39;49mpargs, \u001b[39m*\u001b[39;49m\u001b[39m*\u001b[39;49mkwargs)\n\u001b[1;32m    106\u001b[0m \u001b[39mexcept\u001b[39;00m \u001b[39mException\u001b[39;00m \u001b[39mas\u001b[39;00m exc:\n\u001b[1;32m    107\u001b[0m     dispatch_event(\u001b[39mself\u001b[39m\u001b[39m.\u001b[39mafter_eventname, obj\u001b[39m=\u001b[39mobj, args\u001b[39m=\u001b[39margs, exception\u001b[39m=\u001b[39mexc)\n",
      "File \u001b[0;32m~/micromamba/envs/moenv/lib/python3.9/site-packages/dwave/cloud/client/base.py:477\u001b[0m, in \u001b[0;36mClient.__init__\u001b[0;34m(self, *args, **kwargs)\u001b[0m\n\u001b[1;32m    475\u001b[0m token \u001b[39m=\u001b[39m options[\u001b[39m'\u001b[39m\u001b[39mtoken\u001b[39m\u001b[39m'\u001b[39m]\n\u001b[1;32m    476\u001b[0m \u001b[39mif\u001b[39;00m \u001b[39mnot\u001b[39;00m token:\n\u001b[0;32m--> 477\u001b[0m     \u001b[39mraise\u001b[39;00m \u001b[39mValueError\u001b[39;00m(\u001b[39m\"\u001b[39m\u001b[39mAPI token not defined\u001b[39m\u001b[39m\"\u001b[39m)\n\u001b[1;32m    479\u001b[0m \u001b[39m# parse optional client certificate\u001b[39;00m\n\u001b[1;32m    480\u001b[0m client_cert \u001b[39m=\u001b[39m options[\u001b[39m'\u001b[39m\u001b[39mclient_cert\u001b[39m\u001b[39m'\u001b[39m]\n",
      "\u001b[0;31mValueError\u001b[0m: API token not defined"
     ]
    }
   ],
   "source": [
    "import random\n",
    "import numpy as np\n",
    "from dwave.system import DWaveSampler, EmbeddingComposite\n",
    "import dwave_networkx as dnx\n",
    "import networkx as nx\n",
    "import dimod\n",
    "\n",
    "\n",
    "# Number of geolocations (nodes)\n",
    "num_nodes = 6\n",
    "\n",
    "# Function to generate random geolocations\n",
    "def generate_geolocations(num_nodes):\n",
    "    geolocations = [(random.uniform(0, 100), random.uniform(0, 100)) for _ in range(num_nodes)]\n",
    "    return geolocations\n",
    "\n",
    "# Function to calculate the Euclidean distance between two points\n",
    "def euclidean_distance(p1, p2):\n",
    "    return np.sqrt((p1[0] - p2[0])**2 + (p1[1] - p2[1])**2)\n",
    "\n",
    "# Generate geolocations\n",
    "geolocations = generate_geolocations(num_nodes)\n",
    "\n",
    "# Create a complete graph with nodes representing geolocations\n",
    "G = nx.complete_graph(num_nodes)\n",
    "\n",
    "# Add edges with weights as the Euclidean distance between geolocations\n",
    "for i, p1 in enumerate(geolocations):\n",
    "    for j, p2 in enumerate(geolocations):\n",
    "        if i != j:\n",
    "            G.add_edge(i, j, weight=euclidean_distance(p1, p2))\n",
    "\n",
    "# Set up the QUBO problem\n",
    "lagrange = 1.0\n",
    "qubo = dnx.traveling_salesperson_qubo(G, lagrange)\n",
    "\n",
    "# Convert the QUBO to a BQM (Binary Quadratic Model)\n",
    "bqm = dimod.BinaryQuadraticModel.from_qubo(qubo)\n",
    "\n",
    "# Set up the sampler\n",
    "sampler = EmbeddingComposite(DWaveSampler())\n",
    "\n",
    "# Solve the TSP problem using D-Wave's quantum annealer\n",
    "sampleset = sampler.sample(bqm)\n",
    "\n",
    "# Find the shortest path from the sampleset\n",
    "path = dnx.traveling_salesperson(G, sampleset)\n",
    "\n",
    "print(\"Shortest path:\", path)\n",
    "print(\"Total distance:\", sampleset.first.energy)\n"
   ]
  }
 ],
 "metadata": {
  "kernelspec": {
   "display_name": "Python 3",
   "language": "python",
   "name": "python3"
  },
  "language_info": {
   "codemirror_mode": {
    "name": "ipython",
    "version": 3
   },
   "file_extension": ".py",
   "mimetype": "text/x-python",
   "name": "python",
   "nbconvert_exporter": "python",
   "pygments_lexer": "ipython3",
   "version": "3.9.16"
  },
  "orig_nbformat": 4
 },
 "nbformat": 4,
 "nbformat_minor": 2
}
