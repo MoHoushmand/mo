{
 "cells": [
  {
   "attachments": {},
   "cell_type": "markdown",
   "metadata": {
    "id": "-yG9wnnNprKj"
   },
   "source": [
    "# Gate-Model Quantum Computing\n",
    "\n",
    "Let's talk about gate model quantum computing, which is also called the universal quantum computing model. The software stack of how you create an algorithm for a quantum computer is slightly different than what you are used to on a classical computer. So imagine that you have your problem definition, for instance, you want to solve the traveling salesman problem-- that is you want to find the shortest way of visiting n cities. And then you can think about what is a matching quantum algorithm. Then you are looking into some optimization algorithm, for instance, an algorithm that we are going to look into which is called QAOA-- \n",
    "\n",
    "# Quantum Approximate Optimization Algorithm. \n",
    "\n",
    "This algorithm eventually splits into a quantum circuit consisting of gates and unitary operations. This is already a very low-level description. So if you are familiar with how a digital circuit decomposes, that's basically the level of what we are talking about here. But below this level, there's actual compilation going on. This compilation does mainly two things. One, if you have a set of gates, and this set of gates is not implemented by the quantum computer, then it does a translation. So it considers actual set of gates implemented into hardware. And a second thing it does, it's quite possible that you want to have some interaction between these two qubits, but these two qubits are not physically connected. Then it has to use all sorts of tricks to get around this problem. So it also addresses problems related to connectivity. We'll talk more about connectivity in the video on implementations. And once this compilation is done, then you can either execute your program on the quantum hardware, on the quantum processing unit, or on some simulator on the quantum system. While on a laptop, you can simulate maybe 20, 22 qubits, on a supercomputer, maybe 50. And that's pretty much when we run out of classical resources. \n",
    "\n",
    "# Solovay-Kitaev theorem\n",
    "\n",
    "There is this fantastic theorem called the Solovay-Kitaev theorem, which says that you can approximate any unitary operation by a finite set of gates, and this approximation is efficient. You don't need that many gates. And this is what makes the gate model of quantum computer universal because it can take any unitary and you can decompose it into elementary gates, which just act on one or two qubits, and reconstruct the effect of this unitary. So a digital computer is universal in the sense that it can implement any logical operation between strings of bits, whereas a quantum computer is universal in the sense that it can take any quantum state or qubits and transform it into any other quantum state or qubits. \n",
    "\n",
    "# Quantum Circuits\n",
    "\n",
    "Let's look at what exactly is a circuit. What happens once this decomposition is done and mapped onto gates and the qubit registers. So let's take a look at the simplest gate-- the X gate-- which just flips the zero gate to one and flips the one gate to zero. So this is the equivalent to logical gate NOT. In a digital computer, that's our only single-bit operation. Within a quantum computer, we have many single-qubit operations. In fact, we have infinitely many because we can map any qubit on the surface on the sphere, which has continuous many values. \n",
    "\n",
    "# Hadamard gate\n",
    "\n",
    "Another important operation is the Hadamard gate, which takes the zero gate and pushes it into the equal superposition. So this would be the equal superposition of 0 and 1. And it takes the one qubit and it maps it behind, which is basically the same thing, but a minus sign here. So that's a way to create the equal superposition by applying the Hadamard gate. And you can think of many other gates on the surface of this sphere. \n",
    "\n",
    "# The CNOT gate\n",
    "\n",
    "Let's look at a two-qubit operation. The CNOT gate has a controller part which detects whether the qubit that performs the control is 0 or 1. And if it's 0, it doesn't do anything. Then if it's 1, then it applies a NOT operation-- an X operation. So the circuit representation is like this. So this is the control qubit and this is where the NOT is applied conditionally. So for instance, if you take this qubit state-- the 0, 0 state where this is the control-- then nothing happens because the control was not applied. On the other hand, if the control is flipped on, then it's going to flip the other qubit to 1. So now, we can start thinking about preparing our first quantum algorithm, which would be the creation of the five plus state, which is the equal superposition of the 0, 0 gate and the 1, 1 gate. So when we see that we can easily create this, we can easily create this, but we want to create them at the same time. So what we do is we initialize two qubits in 0, 0. This is typical for a quantum computer. You always start your calculation in the 0, 0 state in every single qubit that you have. So now, this is going to be our qubit 0, so our rightmost qubit if you write it this way. So we apply a Hadamard gate on it. So at this point, what we have is an equal superposition of 0 and 1. And now, we apply the control-- controlled NOT. So when the controlled NOT looks at this one, it doesn't do anything, so the final state will have the 0, 0 element. And when it looks at the second part of the superposition, then it sees that it's 1, which means it flips this qubit. So this is going to be the 1, 1 state. And we have an equal superposition, so this circuit prepares the maximally-entangled state with just 2 qubits. Today, the quantum computers that we have are fairly shallow in the sense that you can only execute gate sequences which have 10 or maybe 15, 20 gates. But ideally, we want to scale them up so we can execute an arbitrary long algorithm, but that will be a long way to go. So later, we'll talk about what you can do with these shallow circuits in practice. \n",
    "\n",
    "**Checkboxes** \n",
    "\n",
    "- A quantum circuit...\n",
    "\n",
    "**Contains quantum gates**\n",
    "\n",
    "**Defines the sequence of operations**\n",
    "\n",
    "• A digital circuit is universal in the sense that any bit string can be transformed into any other bit string by applying a finite number of gates (two, in fact) a finite number of times. In quantum computers, however, there are continuously many possible probability amplitudes -- it is an intrinsically analogue form of computation. The Solovay-Kitaev tells you that...\n",
    "\n",
    "– A finite set of gates efficiently approximates any unitary operations.\n",
    "\n",
    "• A single-qubit gate...\n",
    "\n",
    "– Moves a point on the surface of the Bloch sphere.\n",
    "\n"
   ]
  },
  {
   "cell_type": "markdown",
   "metadata": {
    "id": "VjEJMOjM1u-5"
   },
   "source": [
    "So far you mastered the notation of quantum mechanics and quantum computing, understood as much physics as needed to perform various operations on quantum states, and now you are ready to build quantum algorithms. In this notebook, we look at the basics of gate-model quantum computing, which is sometimes also referred to as universal quantum computing. Most academic and commercial efforts to build a quantum computer focus on this model: Alibaba, Baidu, Google, HP, IBM Q, Intel, IonQ, Microsoft, Rigetti Computing, and Tencent all aim at this, and the list keeps expanding. It remains unclear which implementation will prove scalable: superconducting chips, photonic systems, and ion traps are the most common types, each having its own advantages and disadvantages. We abstract away, we focus on the quantum algorithms irrespective of the physical implementation.\n",
    "\n",
    "To get there, first we have to familiarize ourselves with some gates and what happens to those gates on quantum computers. The following diagram shows the software stack that bridges a problem we want to solve with the actual computational back-end [[1](#1)]:\n",
    "\n",
    "<img src=\"figures/universal_quantum_workflow.png\" alt=\"Software stack on a gate-model quantum computer\" style=\"width: 400px;\"/>\n",
    "\n",
    "First, we define the problem at a high-level and a suitable quantum algorithm is chosen. Then, we express the quantum algorithm as a quantum circuit composed of gates. This in turn has to be compiled to a specific quantum gate set available. The last step is to execute the final circuit either on a quantum processor or on a simulator.\n",
    "\n",
    "The quantum algorithms we are interested in are about machine learning. In this notebook, we look at the levels below algorithms: the definition of circuits, their compilation, and the mapping to the hardware or a simulator.\n",
    "\n",
    "\n",
    "# Defining circuits\n",
    "\n",
    "Circuits are composed of qubit registers, gates acting on them, and measurements on the registers. To store the outcome of registers, many quantum computing libraries add classical registers to the circuits. Even by this language, you can tell that this is a very low level of programming a computer. It resembles the assembly language of digital computers, in which a program consists of machine code instructions.\n",
    "\n",
    "Qubit registers are indexed from 0. We often just say qubit 0, qubit 1, and so on, to refer to the register containing a qubit. This is not to be confused with the actual state of the qubit, which can be $|0\\rangle$, $|1\\rangle$, or any superposition thereof. For instance, qubit 0 can be in the state $|1\\rangle$.\n",
    "\n",
    "Let's take a look at the gates. In digital computing, a processor transforms bit strings to bit strings with logical gates. Any bit string can be achieved with just two gates, which makes universal computations possible with simple operations composed only of these two types of gates. It is remarkable and surprising that the same is also true for quantum computers: any unitary operation can be decomposed into elementary gates, and three types of gates are sufficient. This is remarkable since we are talking about transforming continuous-valued probability amplitudes, not just discrete elements. Yet, this result is what provides the high-level theoretical foundation for being able to build a universal quantum computer at all.\n",
    "\n",
    "Let's look at some common gates, some of which we have already seen. Naturally, all of these are unitary.\n",
    "\n",
    "| Gate |Name                | &nbsp;&nbsp;&nbsp;&nbsp;&nbsp;&nbsp;&nbsp;&nbsp;&nbsp;&nbsp; Matrix |\n",
    "|------|--------------------|---------------------------------------------------------------------|\n",
    "|   X  | Pauli-X or NOT gate|$\\begin{bmatrix}0 & 1\\\\ 1& 0\\end{bmatrix}$|\n",
    "|   Z  | Pauli-Z  gate      |$\\begin{bmatrix}1 & 0\\\\ 0& -1\\end{bmatrix}$|\n",
    "|  H   | Hadamard gate      |$\\frac{1}{\\sqrt{2}}\\begin{bmatrix}1 & 1\\\\ 1& -1\\end{bmatrix}$|\n",
    "| Rx($\\theta$)| Rotation around X|$\\begin{bmatrix}\\cos(\\theta/2) & -i \\sin(\\theta/2)\\\\ -i \\sin(\\theta / 2) & \\cos(\\theta / 2)\\end{bmatrix}$|\n",
    "| Ry($\\theta$)| Rotation around Y|$\\begin{bmatrix}\\cos(\\theta/2) & -\\sin(\\theta/2)\\\\ \\sin(\\theta / 2) & \\cos(\\theta / 2)\\end{bmatrix}$|\n",
    "| CNOT, CX | Controlled-NOT | $\\begin{bmatrix}1 & 0 & 0 &0\\\\ 0 & 1 & 0 &0\\\\ 0 & 0 & 0 &1\\\\ 0 & 0 & 1 &0\\end{bmatrix}$|\n",
    "\n",
    "As we have seen before, the rotations correspond to axis defined in the Bloch sphere. \n",
    "\n",
    "There should be one thing immediately apparent from the table: there are many, in fact, infinitely many single-qubit operations. The rotations, for instance, are parametrized by a continuous value. This is in stark contrast with digital circuits, where the only non-trivial single-bit gate is the NOT gate.\n",
    "\n",
    "The CNOT gate is the only two-qubit gate in this list. It has a special role: we need two-qubit interactions to create entanglement. Let's repeat the circuit for creating the $|\\phi^+\\rangle = \\frac{1}{\\sqrt{2}}(|00\\rangle+|11\\rangle)$. We will have two qubit registers and two classical registers for measurement output. First, let's define the circuit and plot it:"
   ]
  },
  {
   "cell_type": "code",
   "execution_count": 1,
   "metadata": {
    "ExecuteTime": {
     "end_time": "2018-11-19T20:07:24.314851Z",
     "start_time": "2018-11-19T20:07:22.576203Z"
    },
    "id": "3AlS7pE51u-_",
    "outputId": "d9f5b82a-7c21-4589-f7b6-168636176df5"
   },
   "outputs": [
    {
     "data": {
      "text/html": [
       "<pre style=\"word-wrap: normal;white-space: pre;background: #fff0;line-height: 1.1;font-family: &quot;Courier New&quot;,Courier,monospace\">      ┌───┐     \n",
       "q0_0: ┤ H ├──■──\n",
       "      └───┘┌─┴─┐\n",
       "q0_1: ─────┤ X ├\n",
       "           └───┘\n",
       "c0: 2/══════════\n",
       "                </pre>"
      ],
      "text/plain": [
       "      ┌───┐     \n",
       "q0_0: ┤ H ├──■──\n",
       "      └───┘┌─┴─┐\n",
       "q0_1: ─────┤ X ├\n",
       "           └───┘\n",
       "c0: 2/══════════\n",
       "                "
      ]
     },
     "execution_count": 1,
     "metadata": {},
     "output_type": "execute_result"
    }
   ],
   "source": [
    "from qiskit import QuantumCircuit, ClassicalRegister, QuantumRegister\n",
    "from qiskit import execute\n",
    "from qiskit import BasicAer as Aer\n",
    "from qiskit.tools.visualization import circuit_drawer, plot_histogram\n",
    "\n",
    "q = QuantumRegister(2)\n",
    "c = ClassicalRegister(2)\n",
    "circuit = QuantumCircuit(q, c)\n",
    "circuit.h(q[0])\n",
    "circuit.cx(q[0], q[1])\n",
    "circuit_drawer(circuit)"
   ]
  },
  {
   "cell_type": "markdown",
   "metadata": {
    "id": "sGixXDuP1u_B"
   },
   "source": [
    "Note that we can't just initialize the qubit registers in a state we fancy. All registers are initialized in $|0\\rangle$ and creating a desired state is **part** of the circuit. In a sense, arbitrary state preparation is the same as universal quantum computation: the end of the calculation is a state that we desired to prepare. Some states are easier to prepare than others. The above circuit has only two gates to prepare our target state, so it is considered very easy.\n",
    "\n",
    "Let us see what happens in this circuit. The Hadamard gate prepares an equal superposition $\\frac{1}{\\sqrt{2}}(|0\\rangle+|1\\rangle)$ in qubit 0. This qubit controls an X gate on qubit 1. Since qubit 0 is in the equal superposition after the Hadamard gate, it will not apply the X gate for the first part of the superposition ($|0\\rangle$) and it will apply the X gate for the second part of the superposition ($|1\\rangle$). Thus we create the final state $\\frac{1}{\\sqrt{2}}(|00\\rangle+|11\\rangle)$, and we entangle the two qubit registers.\n",
    "\n",
    "A digital computer's processing unit typically has 64-bit registers and it is able to perform universal calculations on bit strings. Any complex calculation is broken down into elementary 64-bit operations, either sequentially or in parallel execution. So you may wonder what is the deal with the thousands of qubits we expect from a quantum computer. Why can't a 64-qubit quantum computer be enough?\n",
    "\n",
    "Entanglement is the easiest way to understand why we need so many qubits. Entanglement is a key resource in quantum computing and we want to make use of it. If we have 64-qubits and we want to entangle another one outside these 64 registers, we would have get rid of the qubit in one of the registers, potentially destroying a superposition and definitely destroying entanglement between that register and any other qubit on the chip. The only way to make use of superpositions and the strong correlations provided by entanglement is if the entire problem is on the quantum processing unit for the duration of the calculation.\n",
    "\n",
    "This global nature of the calculation is also the reason why there is a focus on problems that are difficult to break down into elementary calculations. The travelling salesman problem is a great example: we need to consider all cities and all distances to minimize overall travel length.\n",
    "\n",
    "To finish off the circuit, we could add a measurement to each qubit:"
   ]
  },
  {
   "cell_type": "code",
   "execution_count": 2,
   "metadata": {
    "ExecuteTime": {
     "end_time": "2018-11-19T20:07:25.136336Z",
     "start_time": "2018-11-19T20:07:24.318756Z"
    },
    "id": "x7KFFZLO1u_D",
    "outputId": "d3ef46ac-4c9a-4c16-f69f-ef1cef768812"
   },
   "outputs": [
    {
     "data": {
      "text/html": [
       "<pre style=\"word-wrap: normal;white-space: pre;background: #fff0;line-height: 1.1;font-family: &quot;Courier New&quot;,Courier,monospace\">      ┌───┐     ┌─┐   \n",
       "q0_0: ┤ H ├──■──┤M├───\n",
       "      └───┘┌─┴─┐└╥┘┌─┐\n",
       "q0_1: ─────┤ X ├─╫─┤M├\n",
       "           └───┘ ║ └╥┘\n",
       "c0: 2/═══════════╩══╩═\n",
       "                 0  1 </pre>"
      ],
      "text/plain": [
       "      ┌───┐     ┌─┐   \n",
       "q0_0: ┤ H ├──■──┤M├───\n",
       "      └───┘┌─┴─┐└╥┘┌─┐\n",
       "q0_1: ─────┤ X ├─╫─┤M├\n",
       "           └───┘ ║ └╥┘\n",
       "c0: 2/═══════════╩══╩═\n",
       "                 0  1 "
      ]
     },
     "execution_count": 2,
     "metadata": {},
     "output_type": "execute_result"
    }
   ],
   "source": [
    "circuit.measure(q, c)\n",
    "circuit_drawer(circuit)"
   ]
  },
  {
   "cell_type": "markdown",
   "metadata": {
    "id": "tX5fgC9O1u_E"
   },
   "source": [
    "Finally, we can plot the statistics:"
   ]
  },
  {
   "cell_type": "code",
   "execution_count": 3,
   "metadata": {
    "ExecuteTime": {
     "end_time": "2018-11-19T20:07:25.405506Z",
     "start_time": "2018-11-19T20:07:25.138810Z"
    },
    "id": "-gxg_KhU1u_F",
    "outputId": "e3184342-763c-424f-c55e-37cbee0f19d2"
   },
   "outputs": [
    {
     "data": {
      "image/png": "[encoded data removed]",
      "text/plain": [
       "<Figure size 700x500 with 1 Axes>"
      ]
     },
     "execution_count": 3,
     "metadata": {},
     "output_type": "execute_result"
    }
   ],
   "source": [
    "backend = Aer.get_backend('qasm_simulator')\n",
    "job = execute(circuit, backend, shots=100)\n",
    "plot_histogram(job.result().get_counts(circuit))"
   ]
  },
  {
   "cell_type": "markdown",
   "metadata": {
    "id": "yBI3l54E1u_F"
   },
   "source": [
    "As we have seen before, 01 and 10 never appear."
   ]
  },
  {
   "cell_type": "markdown",
   "metadata": {
    "id": "9UaErJUx1u_G"
   },
   "source": [
    "# Compilation\n",
    "\n",
    "The circuit is the way to describe a quantum algorithm. It may also contain some arbitrary single or two-qubit unitary and controlled versions thereof. A quantum compiler should be able to decompose these into elementary gates."
   ]
  },
  {
   "cell_type": "markdown",
   "metadata": {
    "id": "dYZEHQ8h1u_H"
   },
   "source": [
    "For instance, in Qiskit, you can get access to the general unitary using the $u3$ gate\n",
    "\n",
    "$$\n",
    "u3(\\theta, \\phi, \\lambda) = \\begin{pmatrix}\n",
    "\\cos(\\theta/2) & -e^{i\\lambda}\\sin(\\theta/2) \\\\\n",
    "e^{i\\phi}\\sin(\\theta/2) & e^{i\\lambda+i\\phi}\\cos(\\theta/2) \n",
    "\\end{pmatrix}.\n",
    "$$\n",
    "\n",
    "The compiler decomposes it into an actual gate sequence."
   ]
  },
  {
   "cell_type": "markdown",
   "metadata": {
    "id": "95BmQBQO1u_H"
   },
   "source": [
    "This is one task of a quantum compiler. The next one is to translate the gates given in the circuit to the gates implemented in the hardware or the simulator. In the table above, we defined many gates, but a well-chosen set of three is sufficient for universality. For engineering constraints, typically one minimal set of universal gates is implemented in the hardware. It depends on the physical architecture which three.\n",
    "\n",
    "At this point, the number of gates applied is probably already increasing: the decomposition of unitary will create many gates and the translation of gates is also likely to add more gates. An additional problem is the topology of the qubits: in some implementations not all qubit registers are connected to each other. The most popular implementation is superconducting qubits, which are manufactured on silicon chips just like any digital device you have. Since this is a quintessentially two dimensional layout, most qubits on the chip will not be connected. Here is an example topology of eight qubits on a superconducting quantum computer:\n",
    "\n",
    "<img src=\"figures/eight_qubits.svg\" alt=\"8-qubit topology\" style=\"width: 200px;\"/>\n",
    "\n",
    "If we want to perform a two-qubit operations between two qubits that are not neighbouring, we have to perform SWAP operations to switch the qubit states between registers. A SWAP consists of three CNOT gates in a sequence.\n",
    "\n",
    "The total number of gates at the end of the compilation reflects the true requirement of the hardware. *Circuit depth* is the number of time steps required to execute the circuit, assuming that gates acting on distinct qubits can operate in parallel. On current and near-term quantum computers, we want circuits to be shallow, otherwise decoherence or other forms of noise destroy our calculations.\n",
    "\n",
    "We have to emphasize that the compilation depends on the backend. On the simulator, physical constraints do not apply. If we compile the circuit above, its depth will not increase:"
   ]
  },
  {
   "cell_type": "code",
   "execution_count": 4,
   "metadata": {
    "ExecuteTime": {
     "end_time": "2018-11-19T20:07:25.427084Z",
     "start_time": "2018-11-19T20:07:25.410103Z"
    },
    "id": "KaCkqq6_1u_J",
    "outputId": "57475eb4-2a39-4bbd-c859-9e0504c3ea93"
   },
   "outputs": [
    {
     "ename": "AttributeError",
     "evalue": "'QasmQobj' object has no attribute 'as_dict'",
     "output_type": "error",
     "traceback": [
      "\u001b[0;31m---------------------------------------------------------------------------\u001b[0m",
      "\u001b[0;31mAttributeError\u001b[0m                            Traceback (most recent call last)",
      "Cell \u001b[0;32mIn[4], line 3\u001b[0m\n\u001b[1;32m      1\u001b[0m \u001b[38;5;28;01mfrom\u001b[39;00m \u001b[38;5;21;01mqiskit\u001b[39;00m\u001b[38;5;21;01m.\u001b[39;00m\u001b[38;5;21;01mcompiler\u001b[39;00m \u001b[38;5;28;01mimport\u001b[39;00m assemble\n\u001b[1;32m      2\u001b[0m compiled_circuit \u001b[38;5;241m=\u001b[39m assemble(circuit, backend)\n\u001b[0;32m----> 3\u001b[0m \u001b[43mcompiled_circuit\u001b[49m\u001b[38;5;241;43m.\u001b[39;49m\u001b[43mas_dict\u001b[49m()[\u001b[38;5;124m'\u001b[39m\u001b[38;5;124mexperiments\u001b[39m\u001b[38;5;124m'\u001b[39m][\u001b[38;5;241m0\u001b[39m][\u001b[38;5;124m'\u001b[39m\u001b[38;5;124minstructions\u001b[39m\u001b[38;5;124m'\u001b[39m]\n",
      "\u001b[0;31mAttributeError\u001b[0m: 'QasmQobj' object has no attribute 'as_dict'"
     ]
    }
   ],
   "source": [
    "from qiskit.compiler import assemble\n",
    "compiled_circuit = assemble(circuit, backend)\n",
    "compiled_circuit.as_dict()['experiments'][0]['instructions']"
   ]
  },
  {
   "cell_type": "markdown",
   "metadata": {
    "id": "FX4P0OJV1u_J"
   },
   "source": [
    "# References\n",
    "\n",
    "[1] M. Fingerhuth, T. Babej, P. Wittek. (2018). [Open source software in quantum computing](https://doi.org/10.1371/journal.pone.0208561). *PLOS ONE* 13(12):e0208561.  <a id='1'></a>"
   ]
  }
 ],
 "metadata": {
  "colab": {
   "collapsed_sections": [],
   "name": "2_1_QML_Quantum_Computations_(05):_Gate-Model_Quantum_Computing-qiskitQDaria.ipynb",
   "provenance": []
  },
  "kernelspec": {
   "display_name": "Python 3 (ipykernel)",
   "language": "python",
   "name": "python3"
  },
  "language_info": {
   "codemirror_mode": {
    "name": "ipython",
    "version": 3
   },
   "file_extension": ".py",
   "mimetype": "text/x-python",
   "name": "python",
   "nbconvert_exporter": "python",
   "pygments_lexer": "ipython3",
   "version": "3.9.16"
  },
  "widgets": {
   "application/vnd.jupyter.widget-state+json": {
    "state": {},
    "version_major": 2,
    "version_minor": 0
   }
  }
 },
 "nbformat": 4,
 "nbformat_minor": 4
}