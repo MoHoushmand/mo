{
 "cells": [
  {
   "cell_type": "markdown",
   "id": "d93f2d52",
   "metadata": {},
   "source": [
    "(about)=\n",
    "\n",
    "# About"
   ]
  },
  {
   "cell_type": "code",
   "execution_count": 1,
   "id": "cf6213b4",
   "metadata": {
    "tags": [
     "full-width"
    ]
   },
   "outputs": [
    {
     "name": "stdout",
     "output_type": "stream",
     "text": [
      "This is a test.\n"
     ]
    }
   ],
   "source": [
    "print(\"This is a test.\")"
   ]
  },
  {
   "cell_type": "markdown",
   "id": "873fac44",
   "metadata": {},
   "source": [
    "(my-label)=\n",
    "\n",
    "## My header\n",
    "\n",
    "## huip"
   ]
  },
  {
   "cell_type": "code",
   "execution_count": 2,
   "id": "e23f73e7",
   "metadata": {
    "tags": [
     "output_scroll"
    ]
   },
   "outputs": [
    {
     "name": "stdout",
     "output_type": "stream",
     "text": [
      "This is a test.\n",
      "This is a test.\n",
      "This is a test.\n",
      "This is a test.\n",
      "This is a test.\n",
      "This is a test.\n",
      "This is a test.\n",
      "This is a test.\n",
      "This is a test.\n",
      "This is a test.\n"
     ]
    }
   ],
   "source": [
    "for ii in range(10):\n",
    "  print(\"This is a test.\")"
   ]
  },
  {
   "cell_type": "markdown",
   "id": "c6aad9b1",
   "metadata": {},
   "source": [
    "###\n",
    "\n",
    "bhipbhio\n",
    "\n",
    "####"
   ]
  },
  {
   "cell_type": "code",
   "execution_count": 3,
   "id": "d95ef5a2",
   "metadata": {
    "tags": [
     "margin"
    ]
   },
   "outputs": [
    {
     "name": "stdout",
     "output_type": "stream",
     "text": [
      "This is a test.\n"
     ]
    }
   ],
   "source": [
    "print(\"This is a test.\")"
   ]
  },
  {
   "cell_type": "code",
   "execution_count": 4,
   "id": "7d47bb98",
   "metadata": {
    "tags": [
     "hide-input"
    ]
   },
   "outputs": [
    {
     "name": "stdout",
     "output_type": "stream",
     "text": [
      "This is a test.\n"
     ]
    }
   ],
   "source": [
    "print(\"This is a test.\")"
   ]
  },
  {
   "cell_type": "code",
   "execution_count": 5,
   "id": "1d95d3af",
   "metadata": {
    "tags": [
     "hide-cell"
    ]
   },
   "outputs": [
    {
     "name": "stdout",
     "output_type": "stream",
     "text": [
      "This is a test.\n"
     ]
    }
   ],
   "source": [
    "print(\"This is a test.\")"
   ]
  },
  {
   "cell_type": "code",
   "execution_count": 6,
   "id": "3995ba40",
   "metadata": {
    "tags": [
     "remove-input"
    ]
   },
   "outputs": [
    {
     "name": "stdout",
     "output_type": "stream",
     "text": [
      "This is a test.\n"
     ]
    }
   ],
   "source": [
    "print(\"This is a test.\")"
   ]
  },
  {
   "cell_type": "code",
   "execution_count": 7,
   "id": "a84aaf74",
   "metadata": {
    "tags": [
     "remove-cell"
    ]
   },
   "outputs": [
    {
     "name": "stdout",
     "output_type": "stream",
     "text": [
      "This is a test.\n"
     ]
    }
   ],
   "source": [
    "print(\"This is a test.\")"
   ]
  },
  {
   "cell_type": "code",
   "execution_count": 8,
   "id": "fe24eaf6",
   "metadata": {
    "tags": [
     "raises-exception"
    ]
   },
   "outputs": [
    {
     "ename": "SyntaxError",
     "evalue": "invalid syntax (2884618176.py, line 1)",
     "output_type": "error",
     "traceback": [
      "\u001b[0;36m  Cell \u001b[0;32mIn[8], line 1\u001b[0;36m\u001b[0m\n\u001b[0;31m    while True print('Hello world')\u001b[0m\n\u001b[0m               ^\u001b[0m\n\u001b[0;31mSyntaxError\u001b[0m\u001b[0;31m:\u001b[0m invalid syntax\n"
     ]
    }
   ],
   "source": [
    "while True print('Hello world')"
   ]
  },
  {
   "cell_type": "markdown",
   "id": "e8b496ff",
   "metadata": {},
   "source": [
    "```python\n",
    "note = \"Python syntax highlighting\"\n",
    "print(node)\n",
    "```"
   ]
  },
  {
   "cell_type": "code",
   "execution_count": 9,
   "id": "efa3ce25",
   "metadata": {},
   "outputs": [
    {
     "name": "stdout",
     "output_type": "stream",
     "text": [
      "Python syntax highlighting\n"
     ]
    }
   ],
   "source": [
    "note = \"Python syntax highlighting\"\n",
    "print(note)"
   ]
  }
 ],
 "metadata": {
  "jupytext": {
   "formats": "md:myst",
   "text_representation": {
    "extension": ".md",
    "format_name": "myst"
   }
  },
  "kernelspec": {
   "display_name": "Python 3",
   "language": "python",
   "name": "python3"
  },
  "language_info": {
   "codemirror_mode": {
    "name": "ipython",
    "version": 3
   },
   "file_extension": ".py",
   "mimetype": "text/x-python",
   "name": "python",
   "nbconvert_exporter": "python",
   "pygments_lexer": "ipython3",
   "version": "3.9.16"
  },
  "source_map": [
   11,
   17,
   20,
   28,
   32,
   40,
   45,
   50,
   55,
   60,
   65,
   68,
   75
  ]
 },
 "nbformat": 4,
 "nbformat_minor": 5
}