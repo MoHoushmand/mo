{
 "cells": [
  {
   "cell_type": "markdown",
   "id": "3b214f0c",
   "metadata": {},
   "source": [
    "(about)=\n",
    "\n",
    "# About"
   ]
  },
  {
   "cell_type": "code",
   "execution_count": 1,
   "id": "bc7c3d3a",
   "metadata": {
    "tags": [
     "full-width"
    ]
   },
   "outputs": [
    {
     "name": "stdout",
     "output_type": "stream",
     "text": [
      "This is a test.\n"
     ]
    }
   ],
   "source": [
    "print(\"This is a test.\")"
   ]
  },
  {
   "cell_type": "markdown",
   "id": "8e77801a",
   "metadata": {},
   "source": [
    "(my-label)=\n",
    "\n",
    "## My header\n",
    "\n",
    "## huip"
   ]
  },
  {
   "cell_type": "code",
   "execution_count": 2,
   "id": "80395d27",
   "metadata": {
    "tags": [
     "output_scroll"
    ]
   },
   "outputs": [
    {
     "name": "stdout",
     "output_type": "stream",
     "text": [
      "This is a test.\n",
      "This is a test.\n",
      "This is a test.\n",
      "This is a test.\n",
      "This is a test.\n",
      "This is a test.\n",
      "This is a test.\n",
      "This is a test.\n",
      "This is a test.\n",
      "This is a test.\n"
     ]
    }
   ],
   "source": [
    "for ii in range(10):\n",
    "  print(\"This is a test.\")"
   ]
  },
  {
   "cell_type": "markdown",
   "id": "c6768c0f",
   "metadata": {},
   "source": [
    "###\n",
    "\n",
    "bhipbhio\n",
    "\n",
    "####"
   ]
  },
  {
   "cell_type": "code",
   "execution_count": 3,
   "id": "e47c621b",
   "metadata": {
    "tags": [
     "margin"
    ]
   },
   "outputs": [
    {
     "name": "stdout",
     "output_type": "stream",
     "text": [
      "This is a test.\n"
     ]
    }
   ],
   "source": [
    "print(\"This is a test.\")"
   ]
  },
  {
   "cell_type": "code",
   "execution_count": 4,
   "id": "a9d5db9f",
   "metadata": {
    "tags": [
     "hide-input"
    ]
   },
   "outputs": [
    {
     "name": "stdout",
     "output_type": "stream",
     "text": [
      "This is a test.\n"
     ]
    }
   ],
   "source": [
    "print(\"This is a test.\")"
   ]
  },
  {
   "cell_type": "code",
   "execution_count": 5,
   "id": "1cdcf2ef",
   "metadata": {
    "tags": [
     "hide-cell"
    ]
   },
   "outputs": [
    {
     "name": "stdout",
     "output_type": "stream",
     "text": [
      "This is a test.\n"
     ]
    }
   ],
   "source": [
    "print(\"This is a test.\")"
   ]
  },
  {
   "cell_type": "code",
   "execution_count": 6,
   "id": "bc895ef7",
   "metadata": {
    "tags": [
     "remove-input"
    ]
   },
   "outputs": [
    {
     "name": "stdout",
     "output_type": "stream",
     "text": [
      "This is a test.\n"
     ]
    }
   ],
   "source": [
    "print(\"This is a test.\")"
   ]
  },
  {
   "cell_type": "code",
   "execution_count": 7,
   "id": "34f58b2b",
   "metadata": {
    "tags": [
     "remove-cell"
    ]
   },
   "outputs": [
    {
     "name": "stdout",
     "output_type": "stream",
     "text": [
      "This is a test.\n"
     ]
    }
   ],
   "source": [
    "print(\"This is a test.\")"
   ]
  },
  {
   "cell_type": "code",
   "execution_count": 8,
   "id": "76495b3c",
   "metadata": {
    "tags": [
     "raises-exception"
    ]
   },
   "outputs": [
    {
     "ename": "SyntaxError",
     "evalue": "invalid syntax (2884618176.py, line 1)",
     "output_type": "error",
     "traceback": [
      "\u001b[0;36m  Cell \u001b[0;32mIn[8], line 1\u001b[0;36m\u001b[0m\n\u001b[0;31m    while True print('Hello world')\u001b[0m\n\u001b[0m               ^\u001b[0m\n\u001b[0;31mSyntaxError\u001b[0m\u001b[0;31m:\u001b[0m invalid syntax\n"
     ]
    }
   ],
   "source": [
    "while True print('Hello world')"
   ]
  },
  {
   "cell_type": "markdown",
   "id": "374915da",
   "metadata": {},
   "source": [
    "```python\n",
    "note = \"Python syntax highlighting\"\n",
    "print(node)\n",
    "```"
   ]
  },
  {
   "cell_type": "code",
   "execution_count": 9,
   "id": "afe5e7c5",
   "metadata": {},
   "outputs": [
    {
     "name": "stdout",
     "output_type": "stream",
     "text": [
      "Python syntax highlighting\n"
     ]
    }
   ],
   "source": [
    "note = \"Python syntax highlighting\"\n",
    "print(note)"
   ]
  },
  {
   "cell_type": "markdown",
   "id": "50970d9e",
   "metadata": {},
   "source": [
    "<html>\n",
    "  <head>\n",
    "    <title>Ice Cream Picker</title>\n",
    "    <meta charset=\"utf-8\">\n",
    "    <link rel=\"stylesheet\" href=\"https://pyscript.net/latest/pyscript.css\" />\n",
    "    <script defer src=\"https://pyscript.net/latest/pyscript.js\"></script>\n",
    "  </head>\n",
    "  <body>\n",
    "\n",
    "    <py-config>\n",
    "      packages = [\"matplotlib\", \"pandas\"]\n",
    "    </py-config>\n",
    "\n",
    "    <py-script>\n",
    "      import js\n",
    "      import pandas as pd\n",
    "      import matplotlib.pyplot as plt\n",
    "\n",
    "      from pyodide.http import open_url\n",
    "      from pyodide.ffi import create_proxy\n",
    "\n",
    "      url = (\n",
    "          \"https://raw.githubusercontent.com/Cheukting/pyscript-ice-cream/main/bj-products.csv\"\n",
    "      )\n",
    "      ice_data = pd.read_csv(open_url(url))\n",
    "\n",
    "      current_selected = []\n",
    "      flavour_elements = js.document.getElementsByName(\"flavour\")\n",
    "\n",
    "      def plot(data):\n",
    "          plt.rcParams[\"figure.figsize\"] = (22,20)\n",
    "          fig, ax = plt.subplots()\n",
    "          bars = ax.barh(data[\"name\"], data[\"rating\"], height=0.7)\n",
    "          ax.bar_label(bars)\n",
    "          plt.title(\"Rating of ice cream flavours of your choice\")\n",
    "          display(fig, target=\"graph-area\", append=False)\n",
    "\n",
    "      def select_flavour(event):\n",
    "          for ele in flavour_elements:\n",
    "              if ele.checked:\n",
    "                  current_selected = ele.value\n",
    "                  break\n",
    "          if current_selected == \"ALL\":\n",
    "              plot(ice_data)\n",
    "          else:\n",
    "              filter = ice_data.apply(lambda x: ele.value in x[\"ingredients\"], axis=1)\n",
    "              plot(ice_data[filter])\n",
    "\n",
    "      ele_proxy = create_proxy(select_flavour)\n",
    "\n",
    "      for ele in flavour_elements:\n",
    "          if ele.value == \"ALL\":\n",
    "            ele.checked = True\n",
    "            current_selected = ele.value\n",
    "          ele.addEventListener(\"change\", ele_proxy)\n",
    "\n",
    "      plot(ice_data)\n",
    "\n",
    "    </py-script>\n",
    "\n",
    "    <div id=\"input\" style=\"margin: 20px;\">\n",
    "      Select your 🍨 flavour: <br/>\n",
    "      <input type=\"radio\" id=\"all\" name=\"flavour\" value=\"ALL\">\n",
    "      <label for=\"all\"> All 🍧</label>\n",
    "      <input type=\"radio\" id=\"chocolate\" name=\"flavour\" value=\"COCOA\">\n",
    "      <label for=\"chocolate\"> Chocolate 🍫</label>\n",
    "      <input type=\"radio\" id=\"cherrie\" name=\"flavour\" value=\"CHERRIES\">\n",
    "      <label for=\"cherrie\"> Cherries 🍒</label>\n",
    "      <input type=\"radio\" id=\"berries\" name=\"flavour\" value=\"BERRY\">\n",
    "      <label for=\"berries\"> Berries 🍓</label>\n",
    "      <input type=\"radio\" id=\"cheese\" name=\"flavour\" value=\"CHEESE\">\n",
    "      <label for=\"cheese\"> Cheese 🧀</label>\n",
    "      <input type=\"radio\" id=\"peanut\" name=\"flavour\" value=\"PEANUT\">\n",
    "      <label for=\"peanut\"> Peanut 🥜</label>\n",
    "    </div>\n",
    "\n",
    "    <py-repl>\n",
    "      ice_data\n",
    "    </py-repl>\n",
    "\n",
    "    <div id=\"graph-area\"></div>\n",
    "  </body>\n",
    "</html>\n",
    "\n",
    "\n",
    "```{only} html\n",
    "<iframe src=\"https://pyscript.net/latest/pyscript.html\" width=\"100%\" height=\"600px\"></iframe>\n",
    "```\n",
    "\n",
    "```{only} html\n",
    "<html>\n",
    "  <head>\n",
    "    <title>Ice Cream Picker</title>\n",
    "    <meta charset=\"utf-8\">\n",
    "    <link rel=\"stylesheet\" href=\"https://pyscript.net/latest/pyscript.css\" />\n",
    "    <script defer src=\"https://pyscript.net/latest/pyscript.js\"></script>\n",
    "  </head>\n",
    "  <body>\n",
    "\n",
    "    <py-config>\n",
    "      packages = [\"matplotlib\", \"pandas\"]\n",
    "    </py-config>\n",
    "\n",
    "    <py-script>\n",
    "      import js\n",
    "      import pandas as pd\n",
    "      import matplotlib.pyplot as plt\n",
    "\n",
    "      from pyodide.http import open_url\n",
    "      from pyodide.ffi import create_proxy\n",
    "\n",
    "      url = (\n",
    "          \"https://raw.githubusercontent.com/Cheukting/pyscript-ice-cream/main/bj-products.csv\"\n",
    "      )\n",
    "      ice_data = pd.read_csv(open_url(url))\n",
    "\n",
    "      current_selected = []\n",
    "      flavour_elements = js.document.getElementsByName(\"flavour\")\n",
    "\n",
    "      def plot(data):\n",
    "          plt.rcParams[\"figure.figsize\"] = (22,20)\n",
    "          fig, ax = plt.subplots()\n",
    "          bars = ax.barh(data[\"name\"], data[\"rating\"], height=0.7)\n",
    "          ax.bar_label(bars)\n",
    "          plt.title(\"Rating of ice cream flavours of your choice\")\n",
    "          display(fig, target=\"graph-area\", append=False)\n",
    "\n",
    "      def select_flavour(event):\n",
    "          for ele in flavour_elements:\n",
    "              if ele.checked:\n",
    "                  current_selected = ele.value\n",
    "                  break\n",
    "          if current_selected == \"ALL\":\n",
    "              plot(ice_data)\n",
    "          else:\n",
    "              filter = ice_data.apply(lambda x: ele.value in x[\"ingredients\"], axis=1)\n",
    "              plot(ice_data[filter])\n",
    "\n",
    "      ele_proxy = create_proxy(select_flavour)\n",
    "\n",
    "      for ele in flavour_elements:\n",
    "          if ele.value == \"ALL\":\n",
    "            ele.checked = True\n",
    "            current_selected = ele.value\n",
    "          ele.addEventListener(\"change\", ele_proxy)\n",
    "\n",
    "      plot(ice_data)\n",
    "\n",
    "    </py-script>\n",
    "\n",
    "    <div id=\"input\" style=\"margin: 20px;\">\n",
    "      Select your 🍨 flavour: <br/>\n",
    "      <input type=\"radio\" id=\"all\" name=\"flavour\" value=\"ALL\">\n",
    "      <label for=\"all\"> All 🍧</label>\n",
    "      <input type=\"radio\" id=\"chocolate\" name=\"flavour\" value=\"COCOA\">\n",
    "      <label for=\"chocolate\"> Chocolate 🍫</label>\n",
    "      <input type=\"radio\" id=\"cherrie\" name=\"flavour\" value=\"CHERRIES\">\n",
    "      <label for=\"cherrie\"> Cherries 🍒</label>\n",
    "      <input type=\"radio\" id=\"berries\" name=\"flavour\" value=\"BERRY\">\n",
    "      <label for=\"berries\"> Berries 🍓</label>\n",
    "      <input type=\"radio\" id=\"cheese\" name=\"flavour\" value=\"CHEESE\">\n",
    "      <label for=\"cheese\"> Cheese 🧀</label>\n",
    "      <input type=\"radio\" id=\"peanut\" name=\"flavour\" value=\"PEANUT\">\n",
    "      <label for=\"peanut\"> Peanut 🥜</label>\n",
    "    </div>\n",
    "\n",
    "    <py-repl>\n",
    "      ice_data\n",
    "    </py-repl>\n",
    "\n",
    "    <div id=\"graph-area\"></div>\n",
    "  </body>\n",
    "</html>\n",
    "```"
   ]
  }
 ],
 "metadata": {
  "jupytext": {
   "formats": "md:myst",
   "text_representation": {
    "extension": ".md",
    "format_name": "myst"
   }
  },
  "kernelspec": {
   "display_name": "Python 3",
   "language": "python",
   "name": "python3"
  },
  "language_info": {
   "codemirror_mode": {
    "name": "ipython",
    "version": 3
   },
   "file_extension": ".py",
   "mimetype": "text/x-python",
   "name": "python",
   "nbconvert_exporter": "python",
   "pygments_lexer": "ipython3",
   "version": "3.9.16"
  },
  "source_map": [
   11,
   17,
   20,
   28,
   32,
   40,
   45,
   50,
   55,
   60,
   65,
   68,
   75,
   78
  ]
 },
 "nbformat": 4,
 "nbformat_minor": 5
}