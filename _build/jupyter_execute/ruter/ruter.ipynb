{
 "cells": [
  {
   "attachments": {},
   "cell_type": "markdown",
   "metadata": {},
   "source": [
    "# Ruter"
   ]
  },
  {
   "cell_type": "code",
   "execution_count": 1,
   "metadata": {},
   "outputs": [
    {
     "ename": "ModuleNotFoundError",
     "evalue": "No module named 'dwave'",
     "output_type": "error",
     "traceback": [
      "\u001b[0;31m---------------------------------------------------------------------------\u001b[0m",
      "\u001b[0;31mModuleNotFoundError\u001b[0m                       Traceback (most recent call last)",
      "Cell \u001b[0;32mIn[1], line 3\u001b[0m\n\u001b[1;32m      1\u001b[0m \u001b[38;5;28;01mimport\u001b[39;00m \u001b[38;5;21;01mrandom\u001b[39;00m\n\u001b[1;32m      2\u001b[0m \u001b[38;5;28;01mimport\u001b[39;00m \u001b[38;5;21;01mnumpy\u001b[39;00m \u001b[38;5;28;01mas\u001b[39;00m \u001b[38;5;21;01mnp\u001b[39;00m\n\u001b[0;32m----> 3\u001b[0m \u001b[38;5;28;01mfrom\u001b[39;00m \u001b[38;5;21;01mdwave\u001b[39;00m\u001b[38;5;21;01m.\u001b[39;00m\u001b[38;5;21;01msystem\u001b[39;00m \u001b[38;5;28;01mimport\u001b[39;00m DWaveSampler, EmbeddingComposite\n\u001b[1;32m      4\u001b[0m \u001b[38;5;28;01mimport\u001b[39;00m \u001b[38;5;21;01mdwave_networkx\u001b[39;00m \u001b[38;5;28;01mas\u001b[39;00m \u001b[38;5;21;01mdnx\u001b[39;00m\n\u001b[1;32m      5\u001b[0m \u001b[38;5;28;01mimport\u001b[39;00m \u001b[38;5;21;01mnetworkx\u001b[39;00m \u001b[38;5;28;01mas\u001b[39;00m \u001b[38;5;21;01mnx\u001b[39;00m\n",
      "\u001b[0;31mModuleNotFoundError\u001b[0m: No module named 'dwave'"
     ]
    }
   ],
   "source": [
    "import random\n",
    "import numpy as np\n",
    "from dwave.system import DWaveSampler, EmbeddingComposite\n",
    "import dwave_networkx as dnx\n",
    "import networkx as nx\n",
    "import dimod\n",
    "\n",
    "\n",
    "# Number of geolocations (nodes)\n",
    "num_nodes = 6\n",
    "\n",
    "# Function to generate random geolocations\n",
    "def generate_geolocations(num_nodes):\n",
    "    geolocations = [(random.uniform(0, 100), random.uniform(0, 100)) for _ in range(num_nodes)]\n",
    "    return geolocations\n",
    "\n",
    "# Function to calculate the Euclidean distance between two points\n",
    "def euclidean_distance(p1, p2):\n",
    "    return np.sqrt((p1[0] - p2[0])**2 + (p1[1] - p2[1])**2)\n",
    "\n",
    "# Generate geolocations\n",
    "geolocations = generate_geolocations(num_nodes)\n",
    "\n",
    "# Create a complete graph with nodes representing geolocations\n",
    "G = nx.complete_graph(num_nodes)\n",
    "\n",
    "# Add edges with weights as the Euclidean distance between geolocations\n",
    "for i, p1 in enumerate(geolocations):\n",
    "    for j, p2 in enumerate(geolocations):\n",
    "        if i != j:\n",
    "            G.add_edge(i, j, weight=euclidean_distance(p1, p2))\n",
    "\n",
    "# Set up the QUBO problem\n",
    "lagrange = 1.0\n",
    "qubo = dnx.traveling_salesperson_qubo(G, lagrange)\n",
    "\n",
    "# Convert the QUBO to a BQM (Binary Quadratic Model)\n",
    "bqm = dimod.BinaryQuadraticModel.from_qubo(qubo)\n",
    "\n",
    "# Set up the sampler\n",
    "sampler = EmbeddingComposite(DWaveSampler())\n",
    "\n",
    "# Solve the TSP problem using D-Wave's quantum annealer\n",
    "sampleset = sampler.sample(bqm)\n",
    "\n",
    "# Find the shortest path from the sampleset\n",
    "path = dnx.traveling_salesperson(G, sampleset)\n",
    "\n",
    "print(\"Shortest path:\", path)\n",
    "print(\"Total distance:\", sampleset.first.energy)\n"
   ]
  }
 ],
 "metadata": {
  "kernelspec": {
   "display_name": "Python 3",
   "language": "python",
   "name": "python3"
  },
  "language_info": {
   "codemirror_mode": {
    "name": "ipython",
    "version": 3
   },
   "file_extension": ".py",
   "mimetype": "text/x-python",
   "name": "python",
   "nbconvert_exporter": "python",
   "pygments_lexer": "ipython3",
   "version": "3.8.17"
  }
 },
 "nbformat": 4,
 "nbformat_minor": 2
}